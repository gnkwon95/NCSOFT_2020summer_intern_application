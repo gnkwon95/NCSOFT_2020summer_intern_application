{
 "cells": [
  {
   "cell_type": "code",
   "execution_count": 129,
   "metadata": {},
   "outputs": [],
   "source": [
    "from bs4 import BeautifulSoup as BS \n",
    "import ssl, urllib \n",
    "import traceback\n",
    "\n",
    "from selenium import webdriver\n",
    "from selenium.webdriver.common.keys import Keys\n",
    "import pandas as pd\n",
    "import numpy as np\n",
    "from urllib.parse import quote_plus\n",
    "\n",
    "from selenium.webdriver import ActionChains\n",
    "\n",
    "path = '../chromedriver'\n",
    "\n",
    "from selenium.webdriver.chrome.options import Options\n",
    "\n",
    "options = Options()\n",
    "options.add_argument('--no-sandbox')\n",
    "options.add_argument('--headless')\n",
    "options.add_argument('--disable-dev-shm-usage')"
   ]
  },
  {
   "cell_type": "code",
   "execution_count": 239,
   "metadata": {},
   "outputs": [],
   "source": [
    "from matplotlib import pyplot as plt"
   ]
  },
  {
   "cell_type": "code",
   "execution_count": 126,
   "metadata": {},
   "outputs": [],
   "source": [
    "import time\n",
    "from konlpy.tag import Okt\n",
    "okt=Okt()\n",
    "import re\n",
    "from collections import Counter"
   ]
  },
  {
   "cell_type": "code",
   "execution_count": 127,
   "metadata": {},
   "outputs": [],
   "source": [
    "import emoji\n",
    "def give_emoji_free_text(text):\n",
    "    allchars = [str for str in text.decode('utf-8')]\n",
    "    emoji_list = [c for c in allchars if c in emoji.UNICODE_EMOJI]\n",
    "    clean_text = ' '.join([str for str in text.decode('utf-8').split() if not any(i in str for i in emoji_list)])\n",
    "    return clean_text"
   ]
  },
  {
   "cell_type": "markdown",
   "metadata": {},
   "source": [
    "## Setting for mobile version"
   ]
  },
  {
   "cell_type": "code",
   "execution_count": 130,
   "metadata": {
    "scrolled": true
   },
   "outputs": [],
   "source": [
    "baseurl = 'http://www.inven.co.kr/board/lineagem/5019?category=%EC%9E%A1%EB%8B%B4&sort=PID&p='\n",
    "\n",
    "pagenum = [str(i) for i in list(range(1, 100))]\n",
    "\n",
    "driver = webdriver.Chrome(path, options=options)"
   ]
  },
  {
   "cell_type": "code",
   "execution_count": 99,
   "metadata": {},
   "outputs": [],
   "source": [
    "body = []\n",
    "author = []"
   ]
  },
  {
   "cell_type": "code",
   "execution_count": 100,
   "metadata": {},
   "outputs": [],
   "source": [
    "for pg in pagenum:\n",
    "   # print(pg)\n",
    "    url = baseurl+quote_plus(pg)\n",
    "    driver.get(url)\n",
    "    time.sleep(1)\n",
    "    html = driver.page_source\n",
    "    soup = BS(html)\n",
    "\n",
    "    full = soup.find(\"td\", {\"valign\": \"TOP\"})\n",
    "    for i in full.find_all(\"td\", {\"class\":\"bbsSubject\"}):\n",
    "        body.append(i.find(\"a\", {\"class\":\"sj_ln\"}).text)\n",
    "\n",
    "    for i in full.find_all(\"td\", {\"class\":\"bbsNick\"}):\n",
    "        author.append(i.find('span').text)\n",
    "    time.sleep(1)\n",
    "driver.quit()"
   ]
  },
  {
   "cell_type": "code",
   "execution_count": 101,
   "metadata": {},
   "outputs": [],
   "source": [
    "body2 = [i[7:] for i in body]\n",
    "\n",
    "mobile_df = pd.DataFrame(body2,author)\n",
    "mobile_df.reset_index(inplace = True)\n",
    "mobile_df.columns = ['writer', 'title']"
   ]
  },
  {
   "cell_type": "code",
   "execution_count": 102,
   "metadata": {
    "scrolled": true
   },
   "outputs": [
    {
     "data": {
      "text/html": [
       "<div>\n",
       "<style scoped>\n",
       "    .dataframe tbody tr th:only-of-type {\n",
       "        vertical-align: middle;\n",
       "    }\n",
       "\n",
       "    .dataframe tbody tr th {\n",
       "        vertical-align: top;\n",
       "    }\n",
       "\n",
       "    .dataframe thead th {\n",
       "        text-align: right;\n",
       "    }\n",
       "</style>\n",
       "<table border=\"1\" class=\"dataframe\">\n",
       "  <thead>\n",
       "    <tr style=\"text-align: right;\">\n",
       "      <th></th>\n",
       "      <th>writer</th>\n",
       "      <th>title</th>\n",
       "    </tr>\n",
       "  </thead>\n",
       "  <tbody>\n",
       "    <tr>\n",
       "      <th>0</th>\n",
       "      <td>Rakii</td>\n",
       "      <td>라이브 방송 보기 오픈/스트리머 등록 안내</td>\n",
       "    </tr>\n",
       "    <tr>\n",
       "      <th>1</th>\n",
       "      <td>Rakii</td>\n",
       "      <td>홍보/불법/거래글에 대한 당부의 말씀</td>\n",
       "    </tr>\n",
       "    <tr>\n",
       "      <th>2</th>\n",
       "      <td>Rakii</td>\n",
       "      <td>아이템 판매 등 거래 게시물은 무통보 삭제..</td>\n",
       "    </tr>\n",
       "    <tr>\n",
       "      <th>3</th>\n",
       "      <td>Rakii</td>\n",
       "      <td>버땅 신규 몬스터 추가! 13일 업데이트 ..</td>\n",
       "    </tr>\n",
       "    <tr>\n",
       "      <th>4</th>\n",
       "      <td>Rakii</td>\n",
       "      <td>선택받은 자의 용기</td>\n",
       "    </tr>\n",
       "    <tr>\n",
       "      <th>...</th>\n",
       "      <td>...</td>\n",
       "      <td>...</td>\n",
       "    </tr>\n",
       "    <tr>\n",
       "      <th>5941</th>\n",
       "      <td>악마왕</td>\n",
       "      <td>팩트는 이거 아님?</td>\n",
       "    </tr>\n",
       "    <tr>\n",
       "      <th>5942</th>\n",
       "      <td>이실로테</td>\n",
       "      <td>라인이나 막피나 머 그게 그거 아님?</td>\n",
       "    </tr>\n",
       "    <tr>\n",
       "      <th>5943</th>\n",
       "      <td>검성이왜짐</td>\n",
       "      <td>웃는건 택진이</td>\n",
       "    </tr>\n",
       "    <tr>\n",
       "      <th>5944</th>\n",
       "      <td>마지막자몽</td>\n",
       "      <td>막피들 이번기회에 다 차단 넣을 수 있었다</td>\n",
       "    </tr>\n",
       "    <tr>\n",
       "      <th>5945</th>\n",
       "      <td>팻보이</td>\n",
       "      <td>마지막으로 글올리고 그만하겠습니다</td>\n",
       "    </tr>\n",
       "  </tbody>\n",
       "</table>\n",
       "<p>5946 rows × 2 columns</p>\n",
       "</div>"
      ],
      "text/plain": [
       "     writer                      title\n",
       "0     Rakii    라이브 방송 보기 오픈/스트리머 등록 안내\n",
       "1     Rakii       홍보/불법/거래글에 대한 당부의 말씀\n",
       "2     Rakii  아이템 판매 등 거래 게시물은 무통보 삭제..\n",
       "3     Rakii  버땅 신규 몬스터 추가! 13일 업데이트 ..\n",
       "4     Rakii                 선택받은 자의 용기\n",
       "...     ...                        ...\n",
       "5941    악마왕                 팩트는 이거 아님?\n",
       "5942   이실로테       라인이나 막피나 머 그게 그거 아님?\n",
       "5943  검성이왜짐                    웃는건 택진이\n",
       "5944  마지막자몽    막피들 이번기회에 다 차단 넣을 수 있었다\n",
       "5945    팻보이         마지막으로 글올리고 그만하겠습니다\n",
       "\n",
       "[5946 rows x 2 columns]"
      ]
     },
     "execution_count": 102,
     "metadata": {},
     "output_type": "execute_result"
    }
   ],
   "source": [
    "mobile_df"
   ]
  },
  {
   "cell_type": "markdown",
   "metadata": {},
   "source": [
    "## Setting for lineage"
   ]
  },
  {
   "cell_type": "code",
   "execution_count": 136,
   "metadata": {},
   "outputs": [],
   "source": [
    "base_url = 'http://www.inven.co.kr/board/lineage/339?sort=PID&p='\n",
    "driver = webdriver.Chrome(path, options=options)"
   ]
  },
  {
   "cell_type": "code",
   "execution_count": 137,
   "metadata": {},
   "outputs": [],
   "source": [
    "body_lineage = []\n",
    "author_lineage = []"
   ]
  },
  {
   "cell_type": "code",
   "execution_count": 138,
   "metadata": {
    "collapsed": true
   },
   "outputs": [
    {
     "name": "stdout",
     "output_type": "stream",
     "text": [
      "http://www.inven.co.kr/board/lineage/339?sort=PID&p=1\n",
      "http://www.inven.co.kr/board/lineage/339?sort=PID&p=2\n",
      "http://www.inven.co.kr/board/lineage/339?sort=PID&p=3\n",
      "http://www.inven.co.kr/board/lineage/339?sort=PID&p=4\n",
      "http://www.inven.co.kr/board/lineage/339?sort=PID&p=5\n",
      "http://www.inven.co.kr/board/lineage/339?sort=PID&p=6\n",
      "http://www.inven.co.kr/board/lineage/339?sort=PID&p=7\n",
      "http://www.inven.co.kr/board/lineage/339?sort=PID&p=8\n",
      "http://www.inven.co.kr/board/lineage/339?sort=PID&p=9\n",
      "http://www.inven.co.kr/board/lineage/339?sort=PID&p=10\n",
      "http://www.inven.co.kr/board/lineage/339?sort=PID&p=11\n",
      "http://www.inven.co.kr/board/lineage/339?sort=PID&p=12\n",
      "http://www.inven.co.kr/board/lineage/339?sort=PID&p=13\n",
      "http://www.inven.co.kr/board/lineage/339?sort=PID&p=14\n",
      "http://www.inven.co.kr/board/lineage/339?sort=PID&p=15\n",
      "http://www.inven.co.kr/board/lineage/339?sort=PID&p=16\n",
      "http://www.inven.co.kr/board/lineage/339?sort=PID&p=17\n",
      "http://www.inven.co.kr/board/lineage/339?sort=PID&p=18\n",
      "http://www.inven.co.kr/board/lineage/339?sort=PID&p=19\n",
      "http://www.inven.co.kr/board/lineage/339?sort=PID&p=20\n",
      "http://www.inven.co.kr/board/lineage/339?sort=PID&p=21\n",
      "http://www.inven.co.kr/board/lineage/339?sort=PID&p=22\n",
      "http://www.inven.co.kr/board/lineage/339?sort=PID&p=23\n",
      "http://www.inven.co.kr/board/lineage/339?sort=PID&p=24\n",
      "http://www.inven.co.kr/board/lineage/339?sort=PID&p=25\n",
      "http://www.inven.co.kr/board/lineage/339?sort=PID&p=26\n",
      "http://www.inven.co.kr/board/lineage/339?sort=PID&p=27\n",
      "http://www.inven.co.kr/board/lineage/339?sort=PID&p=28\n",
      "http://www.inven.co.kr/board/lineage/339?sort=PID&p=29\n",
      "http://www.inven.co.kr/board/lineage/339?sort=PID&p=30\n",
      "http://www.inven.co.kr/board/lineage/339?sort=PID&p=31\n",
      "http://www.inven.co.kr/board/lineage/339?sort=PID&p=32\n",
      "http://www.inven.co.kr/board/lineage/339?sort=PID&p=33\n",
      "http://www.inven.co.kr/board/lineage/339?sort=PID&p=34\n",
      "http://www.inven.co.kr/board/lineage/339?sort=PID&p=35\n",
      "http://www.inven.co.kr/board/lineage/339?sort=PID&p=36\n",
      "http://www.inven.co.kr/board/lineage/339?sort=PID&p=37\n",
      "http://www.inven.co.kr/board/lineage/339?sort=PID&p=38\n",
      "http://www.inven.co.kr/board/lineage/339?sort=PID&p=39\n",
      "http://www.inven.co.kr/board/lineage/339?sort=PID&p=40\n",
      "http://www.inven.co.kr/board/lineage/339?sort=PID&p=41\n",
      "http://www.inven.co.kr/board/lineage/339?sort=PID&p=42\n",
      "http://www.inven.co.kr/board/lineage/339?sort=PID&p=43\n",
      "http://www.inven.co.kr/board/lineage/339?sort=PID&p=44\n",
      "http://www.inven.co.kr/board/lineage/339?sort=PID&p=45\n",
      "http://www.inven.co.kr/board/lineage/339?sort=PID&p=46\n",
      "http://www.inven.co.kr/board/lineage/339?sort=PID&p=47\n",
      "http://www.inven.co.kr/board/lineage/339?sort=PID&p=48\n",
      "http://www.inven.co.kr/board/lineage/339?sort=PID&p=49\n",
      "http://www.inven.co.kr/board/lineage/339?sort=PID&p=50\n",
      "http://www.inven.co.kr/board/lineage/339?sort=PID&p=51\n",
      "http://www.inven.co.kr/board/lineage/339?sort=PID&p=52\n",
      "http://www.inven.co.kr/board/lineage/339?sort=PID&p=53\n",
      "http://www.inven.co.kr/board/lineage/339?sort=PID&p=54\n",
      "http://www.inven.co.kr/board/lineage/339?sort=PID&p=55\n",
      "http://www.inven.co.kr/board/lineage/339?sort=PID&p=56\n",
      "http://www.inven.co.kr/board/lineage/339?sort=PID&p=57\n",
      "http://www.inven.co.kr/board/lineage/339?sort=PID&p=58\n",
      "http://www.inven.co.kr/board/lineage/339?sort=PID&p=59\n",
      "http://www.inven.co.kr/board/lineage/339?sort=PID&p=60\n",
      "http://www.inven.co.kr/board/lineage/339?sort=PID&p=61\n",
      "http://www.inven.co.kr/board/lineage/339?sort=PID&p=62\n",
      "http://www.inven.co.kr/board/lineage/339?sort=PID&p=63\n",
      "http://www.inven.co.kr/board/lineage/339?sort=PID&p=64\n",
      "http://www.inven.co.kr/board/lineage/339?sort=PID&p=65\n",
      "http://www.inven.co.kr/board/lineage/339?sort=PID&p=66\n",
      "http://www.inven.co.kr/board/lineage/339?sort=PID&p=67\n",
      "http://www.inven.co.kr/board/lineage/339?sort=PID&p=68\n",
      "http://www.inven.co.kr/board/lineage/339?sort=PID&p=69\n",
      "http://www.inven.co.kr/board/lineage/339?sort=PID&p=70\n",
      "http://www.inven.co.kr/board/lineage/339?sort=PID&p=71\n",
      "http://www.inven.co.kr/board/lineage/339?sort=PID&p=72\n",
      "http://www.inven.co.kr/board/lineage/339?sort=PID&p=73\n",
      "http://www.inven.co.kr/board/lineage/339?sort=PID&p=74\n",
      "http://www.inven.co.kr/board/lineage/339?sort=PID&p=75\n",
      "http://www.inven.co.kr/board/lineage/339?sort=PID&p=76\n",
      "http://www.inven.co.kr/board/lineage/339?sort=PID&p=77\n",
      "http://www.inven.co.kr/board/lineage/339?sort=PID&p=78\n",
      "http://www.inven.co.kr/board/lineage/339?sort=PID&p=79\n",
      "http://www.inven.co.kr/board/lineage/339?sort=PID&p=80\n",
      "http://www.inven.co.kr/board/lineage/339?sort=PID&p=81\n",
      "http://www.inven.co.kr/board/lineage/339?sort=PID&p=82\n",
      "http://www.inven.co.kr/board/lineage/339?sort=PID&p=83\n",
      "http://www.inven.co.kr/board/lineage/339?sort=PID&p=84\n",
      "http://www.inven.co.kr/board/lineage/339?sort=PID&p=85\n",
      "http://www.inven.co.kr/board/lineage/339?sort=PID&p=86\n",
      "http://www.inven.co.kr/board/lineage/339?sort=PID&p=87\n",
      "http://www.inven.co.kr/board/lineage/339?sort=PID&p=88\n",
      "http://www.inven.co.kr/board/lineage/339?sort=PID&p=89\n",
      "http://www.inven.co.kr/board/lineage/339?sort=PID&p=90\n",
      "http://www.inven.co.kr/board/lineage/339?sort=PID&p=91\n",
      "http://www.inven.co.kr/board/lineage/339?sort=PID&p=92\n",
      "http://www.inven.co.kr/board/lineage/339?sort=PID&p=93\n",
      "http://www.inven.co.kr/board/lineage/339?sort=PID&p=94\n",
      "http://www.inven.co.kr/board/lineage/339?sort=PID&p=95\n",
      "http://www.inven.co.kr/board/lineage/339?sort=PID&p=96\n",
      "http://www.inven.co.kr/board/lineage/339?sort=PID&p=97\n",
      "http://www.inven.co.kr/board/lineage/339?sort=PID&p=98\n",
      "http://www.inven.co.kr/board/lineage/339?sort=PID&p=99\n"
     ]
    }
   ],
   "source": [
    "for pg in pagenum:\n",
    "    url = base_url+quote_plus(pg)\n",
    "    driver.get(url)\n",
    "    time.sleep(1)\n",
    "    html = driver.page_source\n",
    "    soup = BS(html)\n",
    "\n",
    "    full = soup.find(\"td\", {\"valign\": \"TOP\"})\n",
    "    for i in full.find_all(\"td\", {\"class\":\"bbsSubject\"}):\n",
    "        body_lineage.append(i.find(\"a\", {\"class\":\"sj_ln\"}).text)\n",
    "\n",
    "    for i in full.find_all(\"td\", {\"class\":\"bbsNick\"}):\n",
    "        author_lineage.append(i.find('span').text)\n",
    "    time.sleep(1)\n",
    "driver.quit()"
   ]
  },
  {
   "cell_type": "code",
   "execution_count": 140,
   "metadata": {},
   "outputs": [],
   "source": [
    "body_lineage2 = [i[7:] for i in body_lineage]\n",
    "\n",
    "lineage_df = pd.DataFrame(body_lineage2,author_lineage)\n",
    "lineage_df.reset_index(inplace = True)\n",
    "lineage_df.columns = ['writer', 'title']"
   ]
  },
  {
   "cell_type": "code",
   "execution_count": 142,
   "metadata": {},
   "outputs": [],
   "source": [
    "lineage_df.to_csv('lineage.csv', encoding=\"utf-8-sig\")\n",
    "\n",
    "mobile_df.to_csv('mobile.csv', encoding='utf-8-sig')"
   ]
  },
  {
   "cell_type": "markdown",
   "metadata": {},
   "source": [
    "## NLP1 - lineage"
   ]
  },
  {
   "cell_type": "code",
   "execution_count": 145,
   "metadata": {},
   "outputs": [],
   "source": [
    "words = \" // \\n\".join(lineage_df['title'])\n",
    "\n",
    "words_filtered =  re.sub('[^ 0-9a-zA-Zㄱ-ㅣ가-힣!?.]','',words)\n",
    "\n",
    "words_filtered2 =words_filtered.replace('.', ' ')"
   ]
  },
  {
   "cell_type": "code",
   "execution_count": 163,
   "metadata": {},
   "outputs": [],
   "source": [
    "NLP_word = []\n",
    "\n",
    "for word in words_filtered2.split():\n",
    "    words = okt.nouns(word)\n",
    "    for _ in words:\n",
    "        NLP_word.append(_)"
   ]
  },
  {
   "cell_type": "markdown",
   "metadata": {},
   "source": [
    "## NLP2 - mobile"
   ]
  },
  {
   "cell_type": "code",
   "execution_count": 166,
   "metadata": {},
   "outputs": [],
   "source": [
    "words = \" // \\n\".join(mobile_df['title'])\n",
    "\n",
    "words_filtered =  re.sub('[^ 0-9a-zA-Zㄱ-ㅣ가-힣!?.]','',words)\n",
    "\n",
    "words_filtered2 =words_filtered.replace('.', ' ')"
   ]
  },
  {
   "cell_type": "code",
   "execution_count": 167,
   "metadata": {},
   "outputs": [],
   "source": [
    "NLP_word_mobile = []\n",
    "\n",
    "for word in words_filtered2.split():\n",
    "    words = okt.nouns(word)\n",
    "    for _ in words:\n",
    "        NLP_word_mobile.append(_)"
   ]
  },
  {
   "cell_type": "code",
   "execution_count": 196,
   "metadata": {},
   "outputs": [],
   "source": [
    "count_lineage = Counter(NLP_word).most_common()"
   ]
  },
  {
   "cell_type": "code",
   "execution_count": 197,
   "metadata": {},
   "outputs": [],
   "source": [
    "count_mobile = Counter(NLP_word_mobile).most_common()"
   ]
  },
  {
   "cell_type": "markdown",
   "metadata": {},
   "source": [
    "## keyword count analysis"
   ]
  },
  {
   "cell_type": "code",
   "execution_count": 220,
   "metadata": {},
   "outputs": [],
   "source": [
    "keyword_lineage = [i for (i, j) in count_lineage]\n",
    "kw_count_lineage = [j for (i, j) in count_lineage]\n",
    "kw_perc_lineage = [j/len(NLP_word) for (i, j) in count_lineage]\n",
    "\n",
    "keyword_mobile = [i for (i, j) in count_mobile]\n",
    "kw_count_mobile = [j for (i, j) in count_mobile]\n",
    "kw_perc_mobile = [j/len(NLP_word_mobile) for (i, j) in count_mobile]"
   ]
  },
  {
   "cell_type": "code",
   "execution_count": 227,
   "metadata": {},
   "outputs": [],
   "source": [
    "lin_kw_df = pd.DataFrame([keyword_lineage, kw_count_lineage, kw_perc_lineage]).transpose()\n"
   ]
  },
  {
   "cell_type": "code",
   "execution_count": 232,
   "metadata": {},
   "outputs": [],
   "source": [
    "lin_kw_df = pd.DataFrame([keyword_lineage, kw_count_lineage, kw_perc_lineage]).transpose()\n",
    "lin_kw_df.columns = ['word', 'freq', 'percent']\n",
    "\n",
    "m_kw_df = pd.DataFrame([keyword_mobile, kw_count_mobile, kw_perc_mobile]).transpose()\n",
    "m_kw_df.columns = ['word', 'freq', 'percent']"
   ]
  },
  {
   "cell_type": "code",
   "execution_count": null,
   "metadata": {},
   "outputs": [],
   "source": []
  },
  {
   "cell_type": "code",
   "execution_count": 257,
   "metadata": {},
   "outputs": [
    {
     "data": {
      "text/html": [
       "<div>\n",
       "<style scoped>\n",
       "    .dataframe tbody tr th:only-of-type {\n",
       "        vertical-align: middle;\n",
       "    }\n",
       "\n",
       "    .dataframe tbody tr th {\n",
       "        vertical-align: top;\n",
       "    }\n",
       "\n",
       "    .dataframe thead th {\n",
       "        text-align: right;\n",
       "    }\n",
       "</style>\n",
       "<table border=\"1\" class=\"dataframe\">\n",
       "  <thead>\n",
       "    <tr style=\"text-align: right;\">\n",
       "      <th></th>\n",
       "      <th>word</th>\n",
       "      <th>freq</th>\n",
       "      <th>percent</th>\n",
       "    </tr>\n",
       "  </thead>\n",
       "  <tbody>\n",
       "    <tr>\n",
       "      <th>94</th>\n",
       "      <td>법사</td>\n",
       "      <td>23</td>\n",
       "      <td>0.00167957</td>\n",
       "    </tr>\n",
       "  </tbody>\n",
       "</table>\n",
       "</div>"
      ],
      "text/plain": [
       "   word freq     percent\n",
       "94   법사   23  0.00167957"
      ]
     },
     "execution_count": 257,
     "metadata": {},
     "output_type": "execute_result"
    }
   ],
   "source": [
    "lin_kw_df[lin_kw_df['word']=='법사']"
   ]
  },
  {
   "cell_type": "code",
   "execution_count": 249,
   "metadata": {
    "collapsed": true
   },
   "outputs": [
    {
     "data": {
      "text/html": [
       "<div>\n",
       "<style scoped>\n",
       "    .dataframe tbody tr th:only-of-type {\n",
       "        vertical-align: middle;\n",
       "    }\n",
       "\n",
       "    .dataframe tbody tr th {\n",
       "        vertical-align: top;\n",
       "    }\n",
       "\n",
       "    .dataframe thead th {\n",
       "        text-align: right;\n",
       "    }\n",
       "</style>\n",
       "<table border=\"1\" class=\"dataframe\">\n",
       "  <thead>\n",
       "    <tr style=\"text-align: right;\">\n",
       "      <th></th>\n",
       "      <th>word</th>\n",
       "      <th>freq</th>\n",
       "      <th>percent</th>\n",
       "    </tr>\n",
       "  </thead>\n",
       "  <tbody>\n",
       "    <tr>\n",
       "      <th>0</th>\n",
       "      <td>형</td>\n",
       "      <td>430</td>\n",
       "      <td>0.0213135</td>\n",
       "    </tr>\n",
       "    <tr>\n",
       "      <th>1</th>\n",
       "      <td>체</td>\n",
       "      <td>245</td>\n",
       "      <td>0.0121437</td>\n",
       "    </tr>\n",
       "    <tr>\n",
       "      <th>2</th>\n",
       "      <td>좀</td>\n",
       "      <td>205</td>\n",
       "      <td>0.0101611</td>\n",
       "    </tr>\n",
       "    <tr>\n",
       "      <th>3</th>\n",
       "      <td>법사</td>\n",
       "      <td>198</td>\n",
       "      <td>0.00981413</td>\n",
       "    </tr>\n",
       "    <tr>\n",
       "      <th>4</th>\n",
       "      <td>계정</td>\n",
       "      <td>180</td>\n",
       "      <td>0.00892193</td>\n",
       "    </tr>\n",
       "    <tr>\n",
       "      <th>5</th>\n",
       "      <td>질문</td>\n",
       "      <td>177</td>\n",
       "      <td>0.00877323</td>\n",
       "    </tr>\n",
       "    <tr>\n",
       "      <th>6</th>\n",
       "      <td>총사</td>\n",
       "      <td>171</td>\n",
       "      <td>0.00847584</td>\n",
       "    </tr>\n",
       "    <tr>\n",
       "      <th>7</th>\n",
       "      <td>유저</td>\n",
       "      <td>150</td>\n",
       "      <td>0.00743494</td>\n",
       "    </tr>\n",
       "    <tr>\n",
       "      <th>8</th>\n",
       "      <td>패키지</td>\n",
       "      <td>142</td>\n",
       "      <td>0.00703841</td>\n",
       "    </tr>\n",
       "    <tr>\n",
       "      <th>9</th>\n",
       "      <td>패</td>\n",
       "      <td>129</td>\n",
       "      <td>0.00639405</td>\n",
       "    </tr>\n",
       "    <tr>\n",
       "      <th>10</th>\n",
       "      <td>막피</td>\n",
       "      <td>126</td>\n",
       "      <td>0.00624535</td>\n",
       "    </tr>\n",
       "    <tr>\n",
       "      <th>11</th>\n",
       "      <td>엔씨</td>\n",
       "      <td>117</td>\n",
       "      <td>0.00579926</td>\n",
       "    </tr>\n",
       "    <tr>\n",
       "      <th>12</th>\n",
       "      <td>서버</td>\n",
       "      <td>117</td>\n",
       "      <td>0.00579926</td>\n",
       "    </tr>\n",
       "    <tr>\n",
       "      <th>13</th>\n",
       "      <td>땅</td>\n",
       "      <td>109</td>\n",
       "      <td>0.00540273</td>\n",
       "    </tr>\n",
       "    <tr>\n",
       "      <th>14</th>\n",
       "      <td>거</td>\n",
       "      <td>104</td>\n",
       "      <td>0.00515489</td>\n",
       "    </tr>\n",
       "    <tr>\n",
       "      <th>15</th>\n",
       "      <td>이전</td>\n",
       "      <td>101</td>\n",
       "      <td>0.0050062</td>\n",
       "    </tr>\n",
       "    <tr>\n",
       "      <th>16</th>\n",
       "      <td>구글</td>\n",
       "      <td>100</td>\n",
       "      <td>0.00495663</td>\n",
       "    </tr>\n",
       "    <tr>\n",
       "      <th>17</th>\n",
       "      <td>형님</td>\n",
       "      <td>100</td>\n",
       "      <td>0.00495663</td>\n",
       "    </tr>\n",
       "    <tr>\n",
       "      <th>18</th>\n",
       "      <td>페북</td>\n",
       "      <td>97</td>\n",
       "      <td>0.00480793</td>\n",
       "    </tr>\n",
       "    <tr>\n",
       "      <th>19</th>\n",
       "      <td>피빨</td>\n",
       "      <td>97</td>\n",
       "      <td>0.00480793</td>\n",
       "    </tr>\n",
       "  </tbody>\n",
       "</table>\n",
       "</div>"
      ],
      "text/plain": [
       "   word freq     percent\n",
       "0     형  430   0.0213135\n",
       "1     체  245   0.0121437\n",
       "2     좀  205   0.0101611\n",
       "3    법사  198  0.00981413\n",
       "4    계정  180  0.00892193\n",
       "5    질문  177  0.00877323\n",
       "6    총사  171  0.00847584\n",
       "7    유저  150  0.00743494\n",
       "8   패키지  142  0.00703841\n",
       "9     패  129  0.00639405\n",
       "10   막피  126  0.00624535\n",
       "11   엔씨  117  0.00579926\n",
       "12   서버  117  0.00579926\n",
       "13    땅  109  0.00540273\n",
       "14    거  104  0.00515489\n",
       "15   이전  101   0.0050062\n",
       "16   구글  100  0.00495663\n",
       "17   형님  100  0.00495663\n",
       "18   페북   97  0.00480793\n",
       "19   피빨   97  0.00480793"
      ]
     },
     "execution_count": 249,
     "metadata": {},
     "output_type": "execute_result"
    }
   ],
   "source": [
    "m_kw_df[:20]"
   ]
  },
  {
   "cell_type": "markdown",
   "metadata": {},
   "source": [
    "## TFIDF"
   ]
  },
  {
   "cell_type": "code",
   "execution_count": 260,
   "metadata": {},
   "outputs": [],
   "source": [
    "from sklearn.feature_extraction.text import TfidfVectorizer"
   ]
  },
  {
   "cell_type": "code",
   "execution_count": 270,
   "metadata": {},
   "outputs": [],
   "source": [
    "def computeTF(wordDict, wordlist):\n",
    "    tfDict = {}\n",
    "    for word, count in wordDict.items():\n",
    "        tfDict[word] = count / float(len(wordlist))\n",
    "    return tfDict"
   ]
  },
  {
   "cell_type": "code",
   "execution_count": 272,
   "metadata": {},
   "outputs": [],
   "source": [
    "def computeIDF(documents):\n",
    "    import math\n",
    "    N = len(documents)\n",
    "    \n",
    "    idfDict = dict.fromkeys(documents[0].keys(), 0)\n",
    "    for document in documents:\n",
    "        for word, val in document.items():\n",
    "            if val > 0:\n",
    "                idfDict[word] += 1\n",
    "    \n",
    "    for word, val in idfDict.items():\n",
    "        idfDict[word] = math.log(N / float(val))\n",
    "    return idfDict"
   ]
  },
  {
   "cell_type": "code",
   "execution_count": 274,
   "metadata": {},
   "outputs": [],
   "source": [
    "def computeTFIDF(tfBagOfWords, idfs):\n",
    "    tfidf = {}\n",
    "    for word, val in tfBagOfWords.items():\n",
    "        tfidf[word] = val * idfs[word]\n",
    "    return tfidf"
   ]
  },
  {
   "cell_type": "code",
   "execution_count": 265,
   "metadata": {},
   "outputs": [],
   "source": [
    "uniqueWords = set(NLP_word).union(set(NLP_word_mobile))\n",
    "\n",
    "numWords_lineage = dict.fromkeys(uniqueWords, 0)\n",
    "\n",
    "for word in NLP_word:\n",
    "    numWords_lineage[word] +=1\n",
    "\n",
    "numWords_mobile = dict.fromkeys(uniqueWords, 0)\n",
    "\n",
    "for word in NLP_word_mobile:\n",
    "    numWords_mobile[word] +=1"
   ]
  },
  {
   "cell_type": "code",
   "execution_count": 271,
   "metadata": {},
   "outputs": [],
   "source": [
    "tfLineage = computeTF(numWords_lineage, NLP_word)\n",
    "tfMobile = computeTF(numWords_mobile, NLP_word_mobile)"
   ]
  },
  {
   "cell_type": "code",
   "execution_count": 273,
   "metadata": {},
   "outputs": [],
   "source": [
    "idfs = computeIDF([numWords_lineage, numWords_mobile])"
   ]
  },
  {
   "cell_type": "code",
   "execution_count": 275,
   "metadata": {},
   "outputs": [],
   "source": [
    "tfidfLineage = computeTFIDF(tfLineage, idfs)\n",
    "tfidfMobile = computeTFIDF(tfMobile, idfs)"
   ]
  },
  {
   "cell_type": "code",
   "execution_count": 279,
   "metadata": {},
   "outputs": [],
   "source": [
    "tfidfDF = pd.DataFrame([tfidfLineage, tfidfMobile]).transpose()\n",
    "\n",
    "tfidfDF.columns = ['Lineage', 'Mobile']"
   ]
  },
  {
   "cell_type": "code",
   "execution_count": 292,
   "metadata": {},
   "outputs": [
    {
     "data": {
      "text/html": [
       "<div>\n",
       "<style scoped>\n",
       "    .dataframe tbody tr th:only-of-type {\n",
       "        vertical-align: middle;\n",
       "    }\n",
       "\n",
       "    .dataframe tbody tr th {\n",
       "        vertical-align: top;\n",
       "    }\n",
       "\n",
       "    .dataframe thead th {\n",
       "        text-align: right;\n",
       "    }\n",
       "</style>\n",
       "<table border=\"1\" class=\"dataframe\">\n",
       "  <thead>\n",
       "    <tr style=\"text-align: right;\">\n",
       "      <th></th>\n",
       "      <th>Lineage</th>\n",
       "    </tr>\n",
       "  </thead>\n",
       "  <tbody>\n",
       "    <tr>\n",
       "      <th>불금</th>\n",
       "      <td>0.001569</td>\n",
       "    </tr>\n",
       "    <tr>\n",
       "      <th>자본</th>\n",
       "      <td>0.001316</td>\n",
       "    </tr>\n",
       "    <tr>\n",
       "      <th>테섭</th>\n",
       "      <td>0.001265</td>\n",
       "    </tr>\n",
       "    <tr>\n",
       "      <th>터널</th>\n",
       "      <td>0.001164</td>\n",
       "    </tr>\n",
       "    <tr>\n",
       "      <th>컬러풀</th>\n",
       "      <td>0.001114</td>\n",
       "    </tr>\n",
       "    <tr>\n",
       "      <th>패션</th>\n",
       "      <td>0.000962</td>\n",
       "    </tr>\n",
       "    <tr>\n",
       "      <th>피방</th>\n",
       "      <td>0.000911</td>\n",
       "    </tr>\n",
       "    <tr>\n",
       "      <th>소개</th>\n",
       "      <td>0.000911</td>\n",
       "    </tr>\n",
       "    <tr>\n",
       "      <th>패스</th>\n",
       "      <td>0.000860</td>\n",
       "    </tr>\n",
       "    <tr>\n",
       "      <th>베니</th>\n",
       "      <td>0.000759</td>\n",
       "    </tr>\n",
       "    <tr>\n",
       "      <th>헤이스</th>\n",
       "      <td>0.000759</td>\n",
       "    </tr>\n",
       "    <tr>\n",
       "      <th>크리스마스</th>\n",
       "      <td>0.000709</td>\n",
       "    </tr>\n",
       "    <tr>\n",
       "      <th>피시방</th>\n",
       "      <td>0.000709</td>\n",
       "    </tr>\n",
       "    <tr>\n",
       "      <th>투표</th>\n",
       "      <td>0.000709</td>\n",
       "    </tr>\n",
       "    <tr>\n",
       "      <th>추억</th>\n",
       "      <td>0.000607</td>\n",
       "    </tr>\n",
       "    <tr>\n",
       "      <th>리마</th>\n",
       "      <td>0.000607</td>\n",
       "    </tr>\n",
       "    <tr>\n",
       "      <th>펀플</th>\n",
       "      <td>0.000557</td>\n",
       "    </tr>\n",
       "    <tr>\n",
       "      <th>카스</th>\n",
       "      <td>0.000506</td>\n",
       "    </tr>\n",
       "    <tr>\n",
       "      <th>취향</th>\n",
       "      <td>0.000506</td>\n",
       "    </tr>\n",
       "    <tr>\n",
       "      <th>화이트데이</th>\n",
       "      <td>0.000506</td>\n",
       "    </tr>\n",
       "  </tbody>\n",
       "</table>\n",
       "</div>"
      ],
      "text/plain": [
       "        Lineage\n",
       "불금     0.001569\n",
       "자본     0.001316\n",
       "테섭     0.001265\n",
       "터널     0.001164\n",
       "컬러풀    0.001114\n",
       "패션     0.000962\n",
       "피방     0.000911\n",
       "소개     0.000911\n",
       "패스     0.000860\n",
       "베니     0.000759\n",
       "헤이스    0.000759\n",
       "크리스마스  0.000709\n",
       "피시방    0.000709\n",
       "투표     0.000709\n",
       "추억     0.000607\n",
       "리마     0.000607\n",
       "펀플     0.000557\n",
       "카스     0.000506\n",
       "취향     0.000506\n",
       "화이트데이  0.000506"
      ]
     },
     "execution_count": 292,
     "metadata": {},
     "output_type": "execute_result"
    }
   ],
   "source": [
    "pd.DataFrame(tfidfDF['Lineage']).sort_values('Lineage', ascending = False)[:20]"
   ]
  },
  {
   "cell_type": "code",
   "execution_count": 293,
   "metadata": {},
   "outputs": [
    {
     "data": {
      "text/html": [
       "<div>\n",
       "<style scoped>\n",
       "    .dataframe tbody tr th:only-of-type {\n",
       "        vertical-align: middle;\n",
       "    }\n",
       "\n",
       "    .dataframe tbody tr th {\n",
       "        vertical-align: top;\n",
       "    }\n",
       "\n",
       "    .dataframe thead th {\n",
       "        text-align: right;\n",
       "    }\n",
       "</style>\n",
       "<table border=\"1\" class=\"dataframe\">\n",
       "  <thead>\n",
       "    <tr style=\"text-align: right;\">\n",
       "      <th></th>\n",
       "      <th>Mobile</th>\n",
       "    </tr>\n",
       "  </thead>\n",
       "  <tbody>\n",
       "    <tr>\n",
       "      <th>피빨</th>\n",
       "      <td>0.003333</td>\n",
       "    </tr>\n",
       "    <tr>\n",
       "      <th>페북</th>\n",
       "      <td>0.003333</td>\n",
       "    </tr>\n",
       "    <tr>\n",
       "      <th>암기</th>\n",
       "      <td>0.003195</td>\n",
       "    </tr>\n",
       "    <tr>\n",
       "      <th>정이</th>\n",
       "      <td>0.002989</td>\n",
       "    </tr>\n",
       "    <tr>\n",
       "      <th>첸</th>\n",
       "      <td>0.002096</td>\n",
       "    </tr>\n",
       "    <tr>\n",
       "      <th>용옥</th>\n",
       "      <td>0.001890</td>\n",
       "    </tr>\n",
       "    <tr>\n",
       "      <th>코</th>\n",
       "      <td>0.001787</td>\n",
       "    </tr>\n",
       "    <tr>\n",
       "      <th>시발</th>\n",
       "      <td>0.001065</td>\n",
       "    </tr>\n",
       "    <tr>\n",
       "      <th>증표</th>\n",
       "      <td>0.001031</td>\n",
       "    </tr>\n",
       "    <tr>\n",
       "      <th>헬린</th>\n",
       "      <td>0.001031</td>\n",
       "    </tr>\n",
       "    <tr>\n",
       "      <th>합성</th>\n",
       "      <td>0.000996</td>\n",
       "    </tr>\n",
       "    <tr>\n",
       "      <th>고번</th>\n",
       "      <td>0.000928</td>\n",
       "    </tr>\n",
       "    <tr>\n",
       "      <th>리덕</th>\n",
       "      <td>0.000928</td>\n",
       "    </tr>\n",
       "    <tr>\n",
       "      <th>부케</th>\n",
       "      <td>0.000928</td>\n",
       "    </tr>\n",
       "    <tr>\n",
       "      <th>명코</th>\n",
       "      <td>0.000928</td>\n",
       "    </tr>\n",
       "    <tr>\n",
       "      <th>컬렉</th>\n",
       "      <td>0.000790</td>\n",
       "    </tr>\n",
       "    <tr>\n",
       "      <th>체인지</th>\n",
       "      <td>0.000756</td>\n",
       "    </tr>\n",
       "    <tr>\n",
       "      <th>불매</th>\n",
       "      <td>0.000756</td>\n",
       "    </tr>\n",
       "    <tr>\n",
       "      <th>아툰</th>\n",
       "      <td>0.000721</td>\n",
       "    </tr>\n",
       "    <tr>\n",
       "      <th>조우</th>\n",
       "      <td>0.000721</td>\n",
       "    </tr>\n",
       "  </tbody>\n",
       "</table>\n",
       "</div>"
      ],
      "text/plain": [
       "       Mobile\n",
       "피빨   0.003333\n",
       "페북   0.003333\n",
       "암기   0.003195\n",
       "정이   0.002989\n",
       "첸    0.002096\n",
       "용옥   0.001890\n",
       "코    0.001787\n",
       "시발   0.001065\n",
       "증표   0.001031\n",
       "헬린   0.001031\n",
       "합성   0.000996\n",
       "고번   0.000928\n",
       "리덕   0.000928\n",
       "부케   0.000928\n",
       "명코   0.000928\n",
       "컬렉   0.000790\n",
       "체인지  0.000756\n",
       "불매   0.000756\n",
       "아툰   0.000721\n",
       "조우   0.000721"
      ]
     },
     "execution_count": 293,
     "metadata": {},
     "output_type": "execute_result"
    }
   ],
   "source": [
    "pd.DataFrame(tfidfDF['Mobile']).sort_values('Mobile', ascending = False)[:20]"
   ]
  },
  {
   "cell_type": "markdown",
   "metadata": {},
   "source": [
    "## unique user"
   ]
  },
  {
   "cell_type": "code",
   "execution_count": 307,
   "metadata": {},
   "outputs": [
    {
     "data": {
      "text/plain": [
       "2.8674388674388673"
      ]
     },
     "execution_count": 307,
     "metadata": {},
     "output_type": "execute_result"
    }
   ],
   "source": [
    "len(lineage_df['writer'])/len(set(lineage_df['writer']))"
   ]
  },
  {
   "cell_type": "code",
   "execution_count": 308,
   "metadata": {},
   "outputs": [
    {
     "data": {
      "text/plain": [
       "4.29004329004329"
      ]
     },
     "execution_count": 308,
     "metadata": {},
     "output_type": "execute_result"
    }
   ],
   "source": [
    "len(mobile_df['writer'])/len(set(mobile_df['writer']))"
   ]
  },
  {
   "cell_type": "code",
   "execution_count": 187,
   "metadata": {},
   "outputs": [
    {
     "data": {
      "text/plain": [
       "4456"
      ]
     },
     "execution_count": 187,
     "metadata": {},
     "output_type": "execute_result"
    }
   ],
   "source": [
    "len(lineage_df['writer'])"
   ]
  },
  {
   "cell_type": "code",
   "execution_count": 183,
   "metadata": {},
   "outputs": [
    {
     "data": {
      "text/plain": [
       "5946"
      ]
     },
     "execution_count": 183,
     "metadata": {},
     "output_type": "execute_result"
    }
   ],
   "source": [
    "len(mobile_df['writer'])"
   ]
  },
  {
   "cell_type": "code",
   "execution_count": 294,
   "metadata": {
    "scrolled": true
   },
   "outputs": [
    {
     "data": {
      "text/plain": [
       "1554"
      ]
     },
     "execution_count": 294,
     "metadata": {},
     "output_type": "execute_result"
    }
   ],
   "source": [
    "len(set(lineage_df['writer']))"
   ]
  },
  {
   "cell_type": "code",
   "execution_count": 295,
   "metadata": {},
   "outputs": [],
   "source": [
    "lineage_users = Counter(lineage_df['writer']).most_common()"
   ]
  },
  {
   "cell_type": "code",
   "execution_count": 296,
   "metadata": {},
   "outputs": [],
   "source": [
    "mobile_users = Counter(mobile_df['writer']).most_common()"
   ]
  },
  {
   "cell_type": "code",
   "execution_count": 297,
   "metadata": {},
   "outputs": [],
   "source": [
    "lineage_writer_cnt = [j for i,j in lineage_users]"
   ]
  },
  {
   "cell_type": "code",
   "execution_count": 304,
   "metadata": {},
   "outputs": [],
   "source": [
    "mobile_writer_cnt = [j for i,j in mobile_users]"
   ]
  },
  {
   "cell_type": "code",
   "execution_count": 305,
   "metadata": {},
   "outputs": [
    {
     "data": {
      "text/plain": [
       "[<matplotlib.lines.Line2D at 0x7f782e658a58>]"
      ]
     },
     "execution_count": 305,
     "metadata": {},
     "output_type": "execute_result"
    },
    {
     "data": {
      "image/png": "[encoded data removed]",
      "text/plain": [
       "<Figure size 432x288 with 1 Axes>"
      ]
     },
     "metadata": {
      "needs_background": "light"
     },
     "output_type": "display_data"
    }
   ],
   "source": [
    "plt.plot(lineage_writer_cnt[:20])"
   ]
  },
  {
   "cell_type": "code",
   "execution_count": 306,
   "metadata": {},
   "outputs": [
    {
     "data": {
      "text/plain": [
       "[<matplotlib.lines.Line2D at 0x7f782e5c54a8>]"
      ]
     },
     "execution_count": 306,
     "metadata": {},
     "output_type": "execute_result"
    },
    {
     "data": {
      "image/png": "[encoded data removed]",
      "text/plain": [
       "<Figure size 432x288 with 1 Axes>"
      ]
     },
     "metadata": {
      "needs_background": "light"
     },
     "output_type": "display_data"
    }
   ],
   "source": [
    "plt.plot(mobile_writer_cnt[:20])"
   ]
  }
 ],
 "metadata": {
  "kernelspec": {
   "display_name": "Python 3",
   "language": "python",
   "name": "python3"
  },
  "language_info": {
   "codemirror_mode": {
    "name": "ipython",
    "version": 3
   },
   "file_extension": ".py",
   "mimetype": "text/x-python",
   "name": "python",
   "nbconvert_exporter": "python",
   "pygments_lexer": "ipython3",
   "version": "3.6.9"
  }
 },
 "nbformat": 4,
 "nbformat_minor": 4
}
